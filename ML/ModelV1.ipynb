{
  "nbformat": 4,
  "nbformat_minor": 0,
  "metadata": {
    "colab": {
      "name": "TrafficFrames.ipynb",
      "provenance": [],
      "collapsed_sections": []
    },
    "kernelspec": {
      "name": "python3",
      "display_name": "Python 3"
    },
    "language_info": {
      "name": "python"
    },
    "accelerator": "GPU"
  },
  "cells": [
    {
      "cell_type": "code",
      "metadata": {
        "colab": {
          "base_uri": "https://localhost:8080/"
        },
        "id": "JClIoP_YoraN",
        "outputId": "94416f3f-df37-4c91-a53c-ea985c25b2e9"
      },
      "source": [
        "from google.colab import drive\n",
        "drive.mount('/content/gdrive/')"
      ],
      "execution_count": null,
      "outputs": [
        {
          "output_type": "stream",
          "text": [
            "Mounted at /content/gdrive/\n"
          ],
          "name": "stdout"
        }
      ]
    },
    {
      "cell_type": "code",
      "metadata": {
        "colab": {
          "base_uri": "https://localhost:8080/"
        },
        "id": "l3_nvXaFo7M8",
        "outputId": "0f855375-3f0e-4b96-902b-529827cd650f"
      },
      "source": [
        "%cd gdrive/MyDrive/TrafficCamAI"
      ],
      "execution_count": null,
      "outputs": [
        {
          "output_type": "stream",
          "text": [
            "/content/gdrive/.shortcut-targets-by-id/1DWSLGFdo1Vf_Lkrxo_kcLxMrUOHlNpNf/TrafficCamAI\n"
          ],
          "name": "stdout"
        }
      ]
    },
    {
      "cell_type": "code",
      "metadata": {
        "colab": {
          "base_uri": "https://localhost:8080/"
        },
        "id": "EXpiAGeUpbxK",
        "outputId": "ab707802-4a4a-4f75-e476-dd0ad30b026d"
      },
      "source": [
        "!unzip -qq train.zip"
      ],
      "execution_count": null,
      "outputs": [
        {
          "output_type": "stream",
          "text": [
            "replace train/crash/T2PeqBcJn3E0.png? [y]es, [n]o, [A]ll, [N]one, [r]ename: y\n",
            "replace train/crash/V17rwsM9ELw9.png? [y]es, [n]o, [A]ll, [N]one, [r]ename: a\n",
            "error:  invalid response [a]\n",
            "replace train/crash/V17rwsM9ELw9.png? [y]es, [n]o, [A]ll, [N]one, [r]ename: A\n",
            "A\n"
          ],
          "name": "stdout"
        }
      ]
    },
    {
      "cell_type": "code",
      "metadata": {
        "id": "DCw8QLZhriIp"
      },
      "source": [
        "!unzip -qq val.zip"
      ],
      "execution_count": null,
      "outputs": []
    },
    {
      "cell_type": "code",
      "metadata": {
        "id": "biZpDw465_jU"
      },
      "source": [
        "import matplotlib.pyplot as plt\n",
        "import cv2\n",
        "import seaborn as sns\n",
        "import shutil\n"
      ],
      "execution_count": null,
      "outputs": []
    },
    {
      "cell_type": "code",
      "metadata": {
        "colab": {
          "base_uri": "https://localhost:8080/"
        },
        "id": "X5kBXekf1o5A",
        "outputId": "d1bb92fa-b59d-42c0-bbcf-c48be276fe94"
      },
      "source": [
        "!pip install keras_efficientnets\n",
        "!pip install keras_applications\n",
        "import keras_efficientnets\n",
        "import pandas as pd\n",
        "import numpy as np\n",
        "import os"
      ],
      "execution_count": null,
      "outputs": [
        {
          "output_type": "stream",
          "text": [
            "Collecting keras_efficientnets\n",
            "  Downloading https://files.pythonhosted.org/packages/3a/41/4dce4e88042b4934003b2b51cfb6a99fc446d375d5fc1ffb2fdf8e069d36/keras_efficientnets-0.1.7-py2.py3-none-any.whl\n",
            "Requirement already satisfied: keras>=2.2.4 in /usr/local/lib/python3.7/dist-packages (from keras_efficientnets) (2.4.3)\n",
            "Requirement already satisfied: scipy>=1.1.0 in /usr/local/lib/python3.7/dist-packages (from keras_efficientnets) (1.4.1)\n",
            "Requirement already satisfied: scikit-learn>=0.21.2 in /usr/local/lib/python3.7/dist-packages (from keras_efficientnets) (0.22.2.post1)\n",
            "Requirement already satisfied: pyyaml in /usr/local/lib/python3.7/dist-packages (from keras>=2.2.4->keras_efficientnets) (3.13)\n",
            "Requirement already satisfied: numpy>=1.9.1 in /usr/local/lib/python3.7/dist-packages (from keras>=2.2.4->keras_efficientnets) (1.19.5)\n",
            "Requirement already satisfied: h5py in /usr/local/lib/python3.7/dist-packages (from keras>=2.2.4->keras_efficientnets) (2.10.0)\n",
            "Requirement already satisfied: joblib>=0.11 in /usr/local/lib/python3.7/dist-packages (from scikit-learn>=0.21.2->keras_efficientnets) (1.0.1)\n",
            "Requirement already satisfied: six in /usr/local/lib/python3.7/dist-packages (from h5py->keras>=2.2.4->keras_efficientnets) (1.15.0)\n",
            "Installing collected packages: keras-efficientnets\n",
            "Successfully installed keras-efficientnets-0.1.7\n",
            "Collecting keras_applications\n",
            "\u001b[?25l  Downloading https://files.pythonhosted.org/packages/71/e3/19762fdfc62877ae9102edf6342d71b28fbfd9dea3d2f96a882ce099b03f/Keras_Applications-1.0.8-py3-none-any.whl (50kB)\n",
            "\u001b[K     |████████████████████████████████| 51kB 7.0MB/s \n",
            "\u001b[?25hRequirement already satisfied: numpy>=1.9.1 in /usr/local/lib/python3.7/dist-packages (from keras_applications) (1.19.5)\n",
            "Requirement already satisfied: h5py in /usr/local/lib/python3.7/dist-packages (from keras_applications) (2.10.0)\n",
            "Requirement already satisfied: six in /usr/local/lib/python3.7/dist-packages (from h5py->keras_applications) (1.15.0)\n",
            "Installing collected packages: keras-applications\n",
            "Successfully installed keras-applications-1.0.8\n"
          ],
          "name": "stdout"
        }
      ]
    },
    {
      "cell_type": "code",
      "metadata": {
        "id": "kD-tKz26256b"
      },
      "source": [
        "from tensorflow.keras.preprocessing.image import ImageDataGenerator\n",
        "\n",
        "train_datagen = ImageDataGenerator(\n",
        "      rescale=1./255,\n",
        "      horizontal_flip=True,\n",
        "      )\n",
        "\n",
        "test_datagen = ImageDataGenerator(rescale=1./255)"
      ],
      "execution_count": null,
      "outputs": []
    },
    {
      "cell_type": "code",
      "metadata": {
        "colab": {
          "base_uri": "https://localhost:8080/"
        },
        "id": "aa8eC9mf3Nf4",
        "outputId": "3a4768af-21b1-4241-f2b0-ed7a1503dcdf"
      },
      "source": [
        "target_size = (224, 224, 3)\n",
        "batch_size = 64\n",
        "train_generator = train_datagen.flow_from_directory(\n",
        "        \"train\", \n",
        "        target_size=target_size[:2],  \n",
        "        batch_size=batch_size,\n",
        "        class_mode='binary',\n",
        "      color_mode=\"rgb\")\n",
        "\n",
        "validation_generator = test_datagen.flow_from_directory(\n",
        "        \"val\",\n",
        "        target_size=target_size[:2],\n",
        "        batch_size=batch_size,\n",
        "        class_mode='binary',\n",
        "      color_mode=\"rgb\")"
      ],
      "execution_count": null,
      "outputs": [
        {
          "output_type": "stream",
          "text": [
            "Found 1957 images belonging to 2 classes.\n",
            "Found 180 images belonging to 2 classes.\n"
          ],
          "name": "stdout"
        }
      ]
    },
    {
      "cell_type": "code",
      "metadata": {
        "id": "mkvTpiny3PHf"
      },
      "source": [
        "effnet = keras_efficientnets.EfficientNetB0(\n",
        "    input_shape=(224,224,3),\n",
        "    weights='imagenet',\n",
        "    include_top=False\n",
        ")\n",
        "from tensorflow.keras.callbacks import EarlyStopping\n",
        "early_stopper = EarlyStopping(monitor='val_loss', patience=50, verbose=1, restore_best_weights=True)\n"
      ],
      "execution_count": null,
      "outputs": []
    },
    {
      "cell_type": "code",
      "metadata": {
        "id": "ndqNz_jd5N2B"
      },
      "source": [
        "from keras.layers.advanced_activations import LeakyReLU\n",
        "from tensorflow.keras.layers import GlobalAveragePooling2D, BatchNormalization\n",
        "from tensorflow.keras.regularizers import l1, l2, l1_l2\n",
        "from keras.models import Sequential\n",
        "from keras.layers import Activation, Dense\n",
        "from keras.optimizers import Adam\n",
        "\n",
        "def build_model():\n",
        "    model = Sequential()\n",
        "    model.add(effnet)\n",
        "    # model.add(GlobalAveragePooling2D())\n",
        "    model.add(Dense(32, kernel_regularizer=l2(0.01), bias_regularizer=l2(0.01)))\n",
        "    model.add(BatchNormalization())\n",
        "    model.add(LeakyReLU())\n",
        "    model.add(GlobalAveragePooling2D())\n",
        "    model.add(Dense(1, activation='sigmoid'))\n",
        "    \n",
        "    model.compile(\n",
        "        loss='binary_crossentropy',\n",
        "        optimizer=Adam(lr=0.00001,decay=1e-6),\n",
        "        metrics=['accuracy']\n",
        "    )\n",
        "    \n",
        "    return model"
      ],
      "execution_count": null,
      "outputs": []
    },
    {
      "cell_type": "code",
      "metadata": {
        "colab": {
          "base_uri": "https://localhost:8080/"
        },
        "id": "n6E2EwTH5wZK",
        "outputId": "c58f9de2-e0f5-4020-cf76-23bea445417e"
      },
      "source": [
        "model2 = build_model()\n",
        "model2.summary()"
      ],
      "execution_count": null,
      "outputs": [
        {
          "output_type": "stream",
          "text": [
            "Model: \"sequential_1\"\n",
            "_________________________________________________________________\n",
            "Layer (type)                 Output Shape              Param #   \n",
            "=================================================================\n",
            "model_1 (Functional)         (None, 7, 7, 1280)        4049564   \n",
            "_________________________________________________________________\n",
            "dense_2 (Dense)              (None, 7, 7, 32)          40992     \n",
            "_________________________________________________________________\n",
            "batch_normalization_99 (Batc (None, 7, 7, 32)          128       \n",
            "_________________________________________________________________\n",
            "leaky_re_lu_1 (LeakyReLU)    (None, 7, 7, 32)          0         \n",
            "_________________________________________________________________\n",
            "global_average_pooling2d_1 ( (None, 32)                0         \n",
            "_________________________________________________________________\n",
            "dense_3 (Dense)              (None, 1)                 33        \n",
            "=================================================================\n",
            "Total params: 4,090,717\n",
            "Trainable params: 4,048,637\n",
            "Non-trainable params: 42,080\n",
            "_________________________________________________________________\n"
          ],
          "name": "stdout"
        }
      ]
    },
    {
      "cell_type": "code",
      "metadata": {
        "colab": {
          "base_uri": "https://localhost:8080/"
        },
        "id": "omBi-sVf5ywQ",
        "outputId": "ceb16e07-c8e0-4f74-fff0-f9eb5b71dbdf"
      },
      "source": [
        "results = model2.fit(\n",
        "    train_generator,\n",
        "    epochs=10,\n",
        "    validation_data = validation_generator,\n",
        "    batch_size=batch_size,\n",
        "    callbacks=[early_stopper],\n",
        "    verbose=1\n",
        ")"
      ],
      "execution_count": null,
      "outputs": [
        {
          "output_type": "stream",
          "text": [
            "Epoch 1/10\n",
            "31/31 [==============================] - 31s 996ms/step - loss: 1.0945 - accuracy: 0.8825 - val_loss: 1.1360 - val_accuracy: 0.7944\n",
            "Epoch 2/10\n",
            "31/31 [==============================] - 31s 980ms/step - loss: 1.0703 - accuracy: 0.9024 - val_loss: 1.0924 - val_accuracy: 0.8167\n",
            "Epoch 3/10\n",
            "31/31 [==============================] - 31s 980ms/step - loss: 1.0460 - accuracy: 0.9172 - val_loss: 1.0591 - val_accuracy: 0.8389\n",
            "Epoch 4/10\n",
            "31/31 [==============================] - 31s 974ms/step - loss: 1.0207 - accuracy: 0.9244 - val_loss: 1.0160 - val_accuracy: 0.8500\n",
            "Epoch 5/10\n",
            "31/31 [==============================] - 31s 976ms/step - loss: 0.9961 - accuracy: 0.9310 - val_loss: 0.9762 - val_accuracy: 0.8500\n",
            "Epoch 6/10\n",
            "31/31 [==============================] - 31s 981ms/step - loss: 0.9743 - accuracy: 0.9366 - val_loss: 0.9473 - val_accuracy: 0.8500\n",
            "Epoch 7/10\n",
            "31/31 [==============================] - 31s 973ms/step - loss: 0.9538 - accuracy: 0.9397 - val_loss: 0.9244 - val_accuracy: 0.8500\n",
            "Epoch 8/10\n",
            "31/31 [==============================] - 30s 966ms/step - loss: 0.9319 - accuracy: 0.9443 - val_loss: 0.8981 - val_accuracy: 0.8500\n",
            "Epoch 9/10\n",
            "31/31 [==============================] - 31s 972ms/step - loss: 0.9166 - accuracy: 0.9428 - val_loss: 0.8839 - val_accuracy: 0.9278\n",
            "Epoch 10/10\n",
            "31/31 [==============================] - 31s 977ms/step - loss: 0.9038 - accuracy: 0.9494 - val_loss: 0.8608 - val_accuracy: 0.9722\n"
          ],
          "name": "stdout"
        }
      ]
    },
    {
      "cell_type": "code",
      "metadata": {
        "id": "K7UKHgIsolw0"
      },
      "source": [
        "model2.save(\"BestModel.h5\")"
      ],
      "execution_count": null,
      "outputs": []
    },
    {
      "cell_type": "code",
      "metadata": {
        "colab": {
          "base_uri": "https://localhost:8080/",
          "height": 547
        },
        "id": "mK2wf34Qy_an",
        "outputId": "519ae67f-df59-4820-89ca-f4113be94e23"
      },
      "source": [
        "losses = pd.DataFrame(results.history)\n",
        "losses[['loss', 'val_loss']].plot()\n",
        "plt.show()\n",
        "print(\"Ending Loss:\", losses['val_loss'][len(losses['val_loss'])-1])\n",
        "# graph training and validation accuracy\n",
        "losses[['accuracy', 'val_accuracy']].plot()\n",
        "plt.show()\n",
        "print(\"Ending Accuracy:\", 100*losses['val_accuracy'][len(losses['val_accuracy'])-1])"
      ],
      "execution_count": null,
      "outputs": [
        {
          "output_type": "display_data",
          "data": {
            "image/png": "[encoded data removed]",
            "text/plain": [
              "<Figure size 432x288 with 1 Axes>"
            ]
          },
          "metadata": {
            "tags": [],
            "needs_background": "light"
          }
        },
        {
          "output_type": "stream",
          "text": [
            "Ending Loss: 0.8608404994010925\n"
          ],
          "name": "stdout"
        },
        {
          "output_type": "display_data",
          "data": {
            "image/png": "[encoded data removed]",
            "text/plain": [
              "<Figure size 432x288 with 1 Axes>"
            ]
          },
          "metadata": {
            "tags": [],
            "needs_background": "light"
          }
        },
        {
          "output_type": "stream",
          "text": [
            "Ending Accuracy: 97.22222089767456\n"
          ],
          "name": "stdout"
        }
      ]
    },
    {
      "cell_type": "code",
      "metadata": {
        "id": "gOxtFlr5zUgF"
      },
      "source": [
        "import json\n",
        "\n",
        "# lets assume `model` is main model \n",
        "model_json = model2.to_json()\n",
        "with open(\"model_in_json.json\", \"w\") as json_file:\n",
        "    json.dump(model_json, json_file)\n",
        "\n",
        "model2.save(\"model_weights.h5\")"
      ],
      "execution_count": null,
      "outputs": []
    },
    {
      "cell_type": "code",
      "metadata": {
        "id": "vgpJaU5x0Ipr"
      },
      "source": [
        "from keras.models import load_model\n",
        "model3 = load_model('model_weights.h5')"
      ],
      "execution_count": null,
      "outputs": []
    },
    {
      "cell_type": "code",
      "metadata": {
        "colab": {
          "base_uri": "https://localhost:8080/"
        },
        "id": "BbbMZmVp9wnR",
        "outputId": "e1e86b39-9ca2-434f-d7eb-c52767c4e8a7"
      },
      "source": [
        "5\n"
      ],
      "execution_count": null,
      "outputs": [
        {
          "output_type": "execute_result",
          "data": {
            "text/plain": [
              "5"
            ]
          },
          "metadata": {
            "tags": []
          },
          "execution_count": 30
        }
      ]
    },
    {
      "cell_type": "code",
      "metadata": {
        "id": "28kpeOrhH07L"
      },
      "source": [
        ""
      ],
      "execution_count": null,
      "outputs": []
    }
  ]
}